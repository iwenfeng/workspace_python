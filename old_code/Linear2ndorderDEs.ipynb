{
 "metadata": {
  "name": "",
  "signature": "sha256:54b452666b04408e337d4cc5991b38deed019158726bc861e0b1c0a39ab78e50"
 },
 "nbformat": 3,
 "nbformat_minor": 0,
 "worksheets": [
  {
   "cells": [
    {
     "cell_type": "markdown",
     "metadata": {},
     "source": [
      "Some SymPy for forced $2^{nd}$ order linear DE's:"
     ]
    },
    {
     "cell_type": "markdown",
     "metadata": {},
     "source": [
      "Start by importing SymPy"
     ]
    },
    {
     "cell_type": "code",
     "collapsed": false,
     "input": [
      "import sympy as sym\n",
      "from sympy import pprint\n",
      "from sympy.interactive import printing\n",
      "printing.init_printing(use_latex=True)\n",
      "from sympy import Derivative as D"
     ],
     "language": "python",
     "metadata": {},
     "outputs": [],
     "prompt_number": 178
    },
    {
     "cell_type": "markdown",
     "metadata": {},
     "source": [
      "Define which letters to use as symbols in this notebook."
     ]
    },
    {
     "cell_type": "code",
     "collapsed": false,
     "input": [
      "r,x,A,B,t,y1,y2,a,W,v1,v2=sym.symbols('r x A B t y1 y2 a W v1 v2')"
     ],
     "language": "python",
     "metadata": {},
     "outputs": [],
     "prompt_number": 120
    },
    {
     "cell_type": "markdown",
     "metadata": {},
     "source": [
      "Solve the equation $2r^2+7r-4=0$ for $r$."
     ]
    },
    {
     "cell_type": "code",
     "collapsed": false,
     "input": [
      "sym.solve(2*r**2+7*r-4,r,0)"
     ],
     "language": "python",
     "metadata": {},
     "outputs": [
      {
       "latex": [
        "$$\\begin{bmatrix}\\begin{Bmatrix}r : -4\\end{Bmatrix}, & \\begin{Bmatrix}r : \\frac{1}{2}\\end{Bmatrix}\\end{bmatrix}$$"
       ],
       "metadata": {},
       "output_type": "pyout",
       "prompt_number": 104,
       "text": [
        "[{r: -4}, {r: 1/2}]"
       ]
      }
     ],
     "prompt_number": 104
    },
    {
     "cell_type": "markdown",
     "metadata": {},
     "source": [
      "Getting the general solution directly:\n",
      "\n",
      "First define $y$ as a function. Then define eq1."
     ]
    },
    {
     "cell_type": "code",
     "collapsed": false,
     "input": [
      "y = sym.Function('y')\n",
      "eq1=sym.Eq(2*D(D(y(x),x),x)+7*D(y(x),x)-4*y(x) )\n",
      "eq1"
     ],
     "language": "python",
     "metadata": {},
     "outputs": [
      {
       "latex": [
        "$$- 4 y{\\left (x \\right )} + 7 \\frac{d}{d x} y{\\left (x \\right )} + 2 \\frac{d^{2}}{d x^{2}}  y{\\left (x \\right )} = 0$$"
       ],
       "metadata": {},
       "output_type": "pyout",
       "png": "[encoded data removed]",
       "prompt_number": 186,
       "text": [
        "                           2          \n",
        "            d             d           \n",
        "-4\u22c5y(x) + 7\u22c5\u2500\u2500(y(x)) + 2\u22c5\u2500\u2500\u2500(y(x)) = 0\n",
        "            dx             2          \n",
        "                         dx           "
       ]
      }
     ],
     "prompt_number": 186
    },
    {
     "cell_type": "markdown",
     "metadata": {},
     "source": [
      "Now solve for the general solution directly"
     ]
    },
    {
     "cell_type": "code",
     "collapsed": false,
     "input": [
      "eq1_=sym.dsolve(eq1,y(x))\n",
      "eq1_"
     ],
     "language": "python",
     "metadata": {},
     "outputs": [
      {
       "latex": [
        "$$y{\\left (x \\right )} = C_{1} e^{- 4 x} + C_{2} \\sqrt{e^{x}}$$"
       ],
       "metadata": {},
       "output_type": "pyout",
       "png": "[encoded data removed]",
       "prompt_number": 187,
       "text": [
        "                        ____\n",
        "           -4\u22c5x        \u2571  x \n",
        "y(x) = C\u2081\u22c5\u212f     + C\u2082\u22c5\u2572\u2571  \u212f  "
       ]
      }
     ],
     "prompt_number": 187
    },
    {
     "cell_type": "markdown",
     "metadata": {},
     "source": [
      "Method of Undetermined Coefficients:\n",
      "    \n",
      "Finding a particular solutions with a guess to the above DE with $f(x)=sin(x)$."
     ]
    },
    {
     "cell_type": "code",
     "collapsed": false,
     "input": [
      "g = sym.Function('g')\n",
      "yp= x-g(t)\n",
      "muc=A*sym.cos(x) + B*sym.sin(x)\n",
      "muc"
     ],
     "language": "python",
     "metadata": {},
     "outputs": [
      {
       "latex": [
        "$$A \\cos{\\left (x \\right )} + B \\sin{\\left (x \\right )}$$"
       ],
       "metadata": {},
       "output_type": "pyout",
       "png": "[encoded data removed]",
       "prompt_number": 188,
       "text": [
        "A\u22c5cos(x) + B\u22c5sin(x)"
       ]
      }
     ],
     "prompt_number": 188
    },
    {
     "cell_type": "markdown",
     "metadata": {},
     "source": [
      "Substitute $yp$ for $y(x)$ in to the eq1:"
     ]
    },
    {
     "cell_type": "code",
     "collapsed": false,
     "input": [
      "eq1_yp=eq1.subs(y(x),yp)\n",
      "eq1_yp"
     ],
     "language": "python",
     "metadata": {},
     "outputs": [
      {
       "latex": [
        "$$- 4 x + 4 g{\\left (t \\right )} + 7 \\frac{\\partial}{\\partial x}\\left(x - g{\\left (t \\right )}\\right) + 2 \\frac{\\partial^{2}}{\\partial x^{2}} \\left(x - g{\\left (t \\right )}\\right) = 0$$"
       ],
       "metadata": {},
       "output_type": "pyout",
       "png": "[encoded data removed]",
       "prompt_number": 189,
       "text": [
        "                                     2              \n",
        "                  \u2202                 \u2202               \n",
        "-4\u22c5x + 4\u22c5g(t) + 7\u22c5\u2500\u2500(x - g(t)) + 2\u22c5\u2500\u2500\u2500(x - g(t)) = 0\n",
        "                  \u2202x                 2              \n",
        "                                   \u2202x               "
       ]
      }
     ],
     "prompt_number": 189
    },
    {
     "cell_type": "markdown",
     "metadata": {},
     "source": [
      "Now simplify the result:"
     ]
    },
    {
     "cell_type": "code",
     "collapsed": false,
     "input": [],
     "language": "python",
     "metadata": {},
     "outputs": [
      {
       "ename": "ValueError",
       "evalue": "-4*x + 4*g(t) + 2*Derivative(1, x) + 7 is not a differential equation in g(t)",
       "output_type": "pyerr",
       "traceback": [
        "\u001b[1;31m---------------------------------------------------------------------------\u001b[0m\n\u001b[1;31mValueError\u001b[0m                                Traceback (most recent call last)",
        "\u001b[1;32m<ipython-input-192-f235f8eca3ce>\u001b[0m in \u001b[0;36m<module>\u001b[1;34m()\u001b[0m\n\u001b[1;32m----> 1\u001b[1;33m \u001b[0msym\u001b[0m\u001b[1;33m.\u001b[0m\u001b[0mdsolve\u001b[0m\u001b[1;33m(\u001b[0m\u001b[0meq1_yp\u001b[0m\u001b[1;33m)\u001b[0m\u001b[1;33m\u001b[0m\u001b[0m\n\u001b[0m",
        "\u001b[1;32m/usr/local/lib/python2.7/dist-packages/sympy/solvers/ode.pyc\u001b[0m in \u001b[0;36mdsolve\u001b[1;34m(eq, func, hint, simplify, ics, xi, eta, x0, n, **kwargs)\u001b[0m\n\u001b[0;32m    523\u001b[0m     hints = _desolve(eq, func=func,\n\u001b[0;32m    524\u001b[0m         \u001b[0mhint\u001b[0m\u001b[1;33m=\u001b[0m\u001b[0mhint\u001b[0m\u001b[1;33m,\u001b[0m \u001b[0msimplify\u001b[0m\u001b[1;33m=\u001b[0m\u001b[0mTrue\u001b[0m\u001b[1;33m,\u001b[0m \u001b[0mxi\u001b[0m\u001b[1;33m=\u001b[0m\u001b[0mxi\u001b[0m\u001b[1;33m,\u001b[0m \u001b[0meta\u001b[0m\u001b[1;33m=\u001b[0m\u001b[0meta\u001b[0m\u001b[1;33m,\u001b[0m \u001b[0mtype\u001b[0m\u001b[1;33m=\u001b[0m\u001b[1;34m'ode'\u001b[0m\u001b[1;33m,\u001b[0m \u001b[0mics\u001b[0m\u001b[1;33m=\u001b[0m\u001b[0mics\u001b[0m\u001b[1;33m,\u001b[0m\u001b[1;33m\u001b[0m\u001b[0m\n\u001b[1;32m--> 525\u001b[1;33m         x0=x0, n=n, **kwargs)\n\u001b[0m\u001b[0;32m    526\u001b[0m \u001b[1;33m\u001b[0m\u001b[0m\n\u001b[0;32m    527\u001b[0m     \u001b[0meq\u001b[0m \u001b[1;33m=\u001b[0m \u001b[0mhints\u001b[0m\u001b[1;33m.\u001b[0m\u001b[0mpop\u001b[0m\u001b[1;33m(\u001b[0m\u001b[1;34m'eq'\u001b[0m\u001b[1;33m,\u001b[0m \u001b[0meq\u001b[0m\u001b[1;33m)\u001b[0m\u001b[1;33m\u001b[0m\u001b[0m\n",
        "\u001b[1;32m/usr/local/lib/python2.7/dist-packages/sympy/solvers/deutils.pyc\u001b[0m in \u001b[0;36m_desolve\u001b[1;34m(eq, func, hint, ics, simplify, **kwargs)\u001b[0m\n\u001b[0;32m    223\u001b[0m     \u001b[1;32mif\u001b[0m \u001b[0mhints\u001b[0m\u001b[1;33m[\u001b[0m\u001b[1;34m'order'\u001b[0m\u001b[1;33m]\u001b[0m \u001b[1;33m==\u001b[0m \u001b[1;36m0\u001b[0m\u001b[1;33m:\u001b[0m\u001b[1;33m\u001b[0m\u001b[0m\n\u001b[0;32m    224\u001b[0m         raise ValueError(\n\u001b[1;32m--> 225\u001b[1;33m             str(eq) + \" is not a differential equation in \" + str(func))\n\u001b[0m\u001b[0;32m    226\u001b[0m \u001b[1;33m\u001b[0m\u001b[0m\n\u001b[0;32m    227\u001b[0m     \u001b[1;32mif\u001b[0m \u001b[1;32mnot\u001b[0m \u001b[0mhints\u001b[0m\u001b[1;33m[\u001b[0m\u001b[1;34m'default'\u001b[0m\u001b[1;33m]\u001b[0m\u001b[1;33m:\u001b[0m\u001b[1;33m\u001b[0m\u001b[0m\n",
        "\u001b[1;31mValueError\u001b[0m: -4*x + 4*g(t) + 2*Derivative(1, x) + 7 is not a differential equation in g(t)"
       ]
      }
     ],
     "prompt_number": 192
    },
    {
     "cell_type": "code",
     "collapsed": false,
     "input": [],
     "language": "python",
     "metadata": {},
     "outputs": [],
     "prompt_number": 190
    },
    {
     "cell_type": "code",
     "collapsed": false,
     "input": [],
     "language": "python",
     "metadata": {},
     "outputs": []
    }
   ],
   "metadata": {}
  }
 ]
}