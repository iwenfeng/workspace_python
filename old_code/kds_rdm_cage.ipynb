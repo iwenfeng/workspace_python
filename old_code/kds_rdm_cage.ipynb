{
 "metadata": {
  "name": "",
  "signature": "sha256:b49762217515d86ac6b49c0b44594be326f7286637fb4850619e6d740e18ddbe"
 },
 "nbformat": 3,
 "nbformat_minor": 0,
 "worksheets": [
  {
   "cells": [
    {
     "cell_type": "code",
     "collapsed": false,
     "input": [
      "from __future__ import division\n",
      "import matplotlib as mpl\n",
      "import scipy as sp\n",
      "from datatools import *\n",
      "from gridtools import *\n",
      "from plottools import *\n",
      "import matplotlib.tri as mplt\n",
      "import matplotlib.pyplot as plt\n",
      "#from mpl_toolkits.basemap import Basemap\n",
      "import os as os\n",
      "import sys\n",
      "np.set_printoptions(precision=8,suppress=True,threshold=np.nan)\n",
      "\n",
      "figsize(16,12)"
     ],
     "language": "python",
     "metadata": {},
     "outputs": [],
     "prompt_number": 13
    },
    {
     "cell_type": "markdown",
     "metadata": {},
     "source": [
      "Load the data in to the notebook"
     ]
    },
    {
     "cell_type": "code",
     "collapsed": false,
     "input": [
      "name1='kit4_45days_3'\n",
      "name2='kit4_kelp_0.025'\n",
      "grid='kit4'\n",
      "regionname='mostchannels'\n",
      "datatype='2d'\n",
      "starttime=384\n",
      "endtime=624\n",
      "\n",
      "data1 = loadnc('/media/moflaher/My Book/kit4/' + name1 +'/output/',singlename=grid + '_0001.nc')\n",
      "data2 = loadnc('/media/moflaher/My Book/kit4/' + name2 +'/output/',singlename=grid + '_0001.nc')\n",
      "data1 = ncdatasort(data1)\n",
      "data2 = ncdatasort(data2)\n",
      "\n",
      "region=regions(regionname)\n",
      "nidx=get_nodes(data1,region)\n",
      "eidx=get_elements(data1,region)\n",
      "\n",
      "cages=np.genfromtxt('/media/moflaher/My Book/kit4/' +name2+ '/input/kit4_cage.dat',skiprows=1)\n",
      "cages=(cages[:,0]-1).astype(int)\n",
      "\n",
      "\n",
      "savepath='figures/png/' + grid + '_' + datatype + '/kelp_drag_speed/' +name1+ '_' +name2+ '/'\n",
      "if not os.path.exists(savepath): os.makedirs(savepath)"
     ],
     "language": "python",
     "metadata": {},
     "outputs": [],
     "prompt_number": 21
    },
    {
     "cell_type": "markdown",
     "metadata": {},
     "source": [
      "Plot the timeseries from both grids at the element with the biggest speed difference"
     ]
    },
    {
     "cell_type": "code",
     "collapsed": false,
     "input": [
      "howoften=500\n",
      "plt.close()\n",
      "plt.tripcolor(data1['trigrid'],data1['h'],vmin=data1['h'][nidx].min(),vmax=data1['h'][nidx].max())\n",
      "plt.plot(data1['uvnodell'][cages[::howoften],0],data1['uvnodell'][cages[::howoften],1],'r*',markersize=16)\n",
      "for j in cages[::howoften]:\n",
      "    plt.text(data1['uvnodell'][j,0]+.01,data1['uvnodell'][j,1]+.01,(\"%d\"%j),color='red',bbox={'facecolor':'white', 'alpha':0.75, 'pad':3})\n",
      "cb=plt.colorbar()\n",
      "cb.set_label('Depth (meters)')\n",
      "prettyplot_ll(plt.gca(),setregion=region,grid=True)\n",
      "plt.savefig(savepath + grid + '_' +name1+ '_'+name2+'_'+ regionname +'_current_locations.png',dpi=600)\n",
      "plt.close()"
     ],
     "language": "python",
     "metadata": {},
     "outputs": [],
     "prompt_number": 22
    },
    {
     "cell_type": "code",
     "collapsed": false,
     "input": [
      "for i in cages[::howoften]:\n",
      "    f, (ax1, ax2, ax3) = plt.subplots(3, sharex=True, sharey=False)\n",
      "    ax1.plot(data1['time'][starttime:endtime]-data1['time'][starttime],np.sqrt(data1['u'][starttime:endtime,0,i]**2+data1['v'][starttime:endtime,0,i]**2),'r',lw=2,label='No kelp')\n",
      "    ax1.plot(data1['time'][starttime:endtime]-data1['time'][starttime],np.sqrt(data2['u'][starttime:endtime,0,i]**2+data2['v'][starttime:endtime,0,i]**2),'b',lw=1,label='Kelp')\n",
      "    ax1.grid()\n",
      "    ax1.set_title('Surface currents at: %d' % (i))\n",
      "    ax1.set_ylabel(r'Speed ($\\frac{m}{s}$)')\n",
      "    ax1.set_xlabel(r'Time (days)')\n",
      "    ax1.get_xaxis().get_major_formatter().set_useOffset(False)\n",
      "    handles, labels = ax1.get_legend_handles_labels()\n",
      "    ax1.legend(handles[::-1], labels[::-1])\n",
      "    \n",
      "    ax2.plot(data1['time'][starttime:endtime]-data1['time'][starttime],np.sqrt(data1['u'][starttime:endtime,10,i]**2+data1['v'][starttime:endtime,10,i]**2),'r',lw=2,label='No kelp')\n",
      "    ax2.plot(data1['time'][starttime:endtime]-data1['time'][starttime],np.sqrt(data2['u'][starttime:endtime,10,i]**2+data2['v'][starttime:endtime,10,i]**2),'b',lw=1,label='Kelp')\n",
      "    ax2.grid()\n",
      "    ax2.set_title('Mid currents at: %d' % (i))\n",
      "    ax2.set_ylabel(r'Speed ($\\frac{m}{s}$)')\n",
      "    ax2.set_xlabel(r'Time (days)')\n",
      "    ax2.get_xaxis().get_major_formatter().set_useOffset(False)\n",
      "    handles, labels = ax2.get_legend_handles_labels()\n",
      "    ax2.legend(handles[::-1], labels[::-1])\n",
      "    \n",
      "    ax3.plot(data1['time'][starttime:endtime]-data1['time'][starttime],np.sqrt(data1['u'][starttime:endtime,19,i]**2+data1['v'][starttime:endtime,19,i]**2),'r',lw=2,label='No kelp')\n",
      "    ax3.plot(data1['time'][starttime:endtime]-data1['time'][starttime],np.sqrt(data2['u'][starttime:endtime,19,i]**2+data2['v'][starttime:endtime,19,i]**2),'b',lw=1,label='Kelp')\n",
      "    ax3.grid()\n",
      "    ax3.set_title('Bottom currents at: %d' % (i))\n",
      "    ax3.set_ylabel(r'Speed ($\\frac{m}{s}$)')\n",
      "    ax3.set_xlabel(r'Time (days)')\n",
      "    ax3.get_xaxis().get_major_formatter().set_useOffset(False)\n",
      "    handles, labels = ax3.get_legend_handles_labels()\n",
      "    ax3.legend(handles[::-1], labels[::-1])\n",
      "    \n",
      "    f.savefig(savepath + grid + '_' +name1+ '_'+name2+'_currents_at_' +(\"%d\"%i)+ '.png',dpi=300)\n",
      "    plt.close(f)"
     ],
     "language": "python",
     "metadata": {},
     "outputs": [],
     "prompt_number": 23
    },
    {
     "cell_type": "code",
     "collapsed": false,
     "input": [],
     "language": "python",
     "metadata": {},
     "outputs": [],
     "prompt_number": 34
    }
   ],
   "metadata": {}
  }
 ]
}