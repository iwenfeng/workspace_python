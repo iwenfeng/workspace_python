{
 "metadata": {
  "name": "",
  "signature": "sha256:e63939836b43708dc4ee3468556add8a9d7afb55b1313041399aec9386749fef"
 },
 "nbformat": 3,
 "nbformat_minor": 0,
 "worksheets": [
  {
   "cells": [
    {
     "cell_type": "code",
     "collapsed": false,
     "input": [
      "from __future__ import division,print_function\n",
      "import numpy as np\n",
      "import scipy as sp\n",
      "import matplotlib as mpl\n",
      "import matplotlib.tri as mplt\n",
      "import matplotlib.pyplot as plt\n",
      "import scipy.io as sio\n",
      "#from mpl_toolkits.basemap import Basemap\n",
      "import os as os\n",
      "import sys\n",
      "from StringIO import StringIO\n",
      "from gridtools import *\n",
      "from datatools import *\n",
      "from misctools import *\n",
      "from plottools import *\n",
      "from projtools import *\n",
      "np.set_printoptions(precision=8,suppress=True,threshold=np.nan)"
     ],
     "language": "python",
     "metadata": {},
     "outputs": [],
     "prompt_number": 1
    },
    {
     "cell_type": "code",
     "collapsed": false,
     "input": [
      "region=expand_region(regions('vh_harbour'),dist=[-2000,0],shift=[500,3000])"
     ],
     "language": "python",
     "metadata": {},
     "outputs": [],
     "prompt_number": 20
    },
    {
     "cell_type": "code",
     "collapsed": false,
     "input": [
      "data=loadnei('runs/vhfr_low/vhfr_low_clean_hpc/input/vhfr_low.nei')\n",
      "data['x'],data['y'],proj=lcc(data['lon'],data['lat'])\n",
      "data=get_nv(data)\n",
      "data=ncdatasort(data)\n",
      "data=get_sidelength(data)"
     ],
     "language": "python",
     "metadata": {},
     "outputs": [],
     "prompt_number": 22
    },
    {
     "cell_type": "code",
     "collapsed": false,
     "input": [
      "eidx=get_elements(data,region)\n",
      "print(data['sl'][eidx].mean(),data['sl'][eidx].min(),data['sl'][eidx].max())"
     ],
     "language": "python",
     "metadata": {},
     "outputs": [
      {
       "output_type": "stream",
       "stream": "stdout",
       "text": [
        "183.044521183 68.9709322513 385.353263269\n"
       ]
      }
     ],
     "prompt_number": 23
    },
    {
     "cell_type": "code",
     "collapsed": false,
     "input": [
      "data=loadnei('runs/vh_high/vh_high_clean_hpc/input/vh_high.nei')\n",
      "data['x'],data['y'],proj=lcc(data['lon'],data['lat'])\n",
      "data=get_nv(data)\n",
      "data=ncdatasort(data)\n",
      "data=get_sidelength(data)"
     ],
     "language": "python",
     "metadata": {},
     "outputs": [],
     "prompt_number": 24
    },
    {
     "cell_type": "code",
     "collapsed": false,
     "input": [
      "eidx=get_elements(data,region)\n",
      "print(data['sl'][eidx].mean(),data['sl'][eidx].min(),data['sl'][eidx].max())"
     ],
     "language": "python",
     "metadata": {},
     "outputs": [
      {
       "output_type": "stream",
       "stream": "stdout",
       "text": [
        "41.9943778745 12.8792060029 133.788627337\n"
       ]
      }
     ],
     "prompt_number": 25
    },
    {
     "cell_type": "code",
     "collapsed": false,
     "input": [],
     "language": "python",
     "metadata": {},
     "outputs": []
    }
   ],
   "metadata": {}
  }
 ]
}